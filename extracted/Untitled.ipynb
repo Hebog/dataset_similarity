{
 "cells": [
  {
   "cell_type": "code",
   "execution_count": 1,
   "id": "83a0022d",
   "metadata": {},
   "outputs": [],
   "source": [
    "import pandas as pd"
   ]
  },
  {
   "cell_type": "code",
   "execution_count": 2,
   "id": "70603f4e",
   "metadata": {},
   "outputs": [
    {
     "data": {
      "text/html": [
       "<div>\n",
       "<style scoped>\n",
       "    .dataframe tbody tr th:only-of-type {\n",
       "        vertical-align: middle;\n",
       "    }\n",
       "\n",
       "    .dataframe tbody tr th {\n",
       "        vertical-align: top;\n",
       "    }\n",
       "\n",
       "    .dataframe thead th {\n",
       "        text-align: right;\n",
       "    }\n",
       "</style>\n",
       "<table border=\"1\" class=\"dataframe\">\n",
       "  <thead>\n",
       "    <tr style=\"text-align: right;\">\n",
       "      <th></th>\n",
       "      <th>Unnamed: 0</th>\n",
       "      <th>0</th>\n",
       "      <th>1</th>\n",
       "      <th>2</th>\n",
       "      <th>3</th>\n",
       "      <th>4</th>\n",
       "      <th>5</th>\n",
       "      <th>6</th>\n",
       "      <th>7</th>\n",
       "      <th>8</th>\n",
       "      <th>...</th>\n",
       "      <th>22</th>\n",
       "      <th>23</th>\n",
       "      <th>24</th>\n",
       "      <th>25</th>\n",
       "      <th>26</th>\n",
       "      <th>27</th>\n",
       "      <th>28</th>\n",
       "      <th>29</th>\n",
       "      <th>30</th>\n",
       "      <th>31</th>\n",
       "    </tr>\n",
       "  </thead>\n",
       "  <tbody>\n",
       "    <tr>\n",
       "      <th>0</th>\n",
       "      <td>abalone</td>\n",
       "      <td>2.661497</td>\n",
       "      <td>-2.628069</td>\n",
       "      <td>1.455021</td>\n",
       "      <td>2.824369</td>\n",
       "      <td>1.644479</td>\n",
       "      <td>0.977095</td>\n",
       "      <td>0.061112</td>\n",
       "      <td>1.130098</td>\n",
       "      <td>-2.545235</td>\n",
       "      <td>...</td>\n",
       "      <td>-0.73536</td>\n",
       "      <td>0.849135</td>\n",
       "      <td>-0.661419</td>\n",
       "      <td>2.348004</td>\n",
       "      <td>-1.516968</td>\n",
       "      <td>0.520532</td>\n",
       "      <td>2.894528</td>\n",
       "      <td>2.987249</td>\n",
       "      <td>2.258234</td>\n",
       "      <td>-2.564725</td>\n",
       "    </tr>\n",
       "  </tbody>\n",
       "</table>\n",
       "<p>1 rows × 33 columns</p>\n",
       "</div>"
      ],
      "text/plain": [
       "  Unnamed: 0         0         1         2         3         4         5  \\\n",
       "0    abalone  2.661497 -2.628069  1.455021  2.824369  1.644479  0.977095   \n",
       "\n",
       "          6         7         8  ...       22        23        24        25  \\\n",
       "0  0.061112  1.130098 -2.545235  ... -0.73536  0.849135 -0.661419  2.348004   \n",
       "\n",
       "         26        27        28        29        30        31  \n",
       "0 -1.516968  0.520532  2.894528  2.987249  2.258234 -2.564725  \n",
       "\n",
       "[1 rows x 33 columns]"
      ]
     },
     "execution_count": 2,
     "metadata": {},
     "output_type": "execute_result"
    }
   ],
   "source": [
    "pd.read_csv(\"abalone.csv\")"
   ]
  }
 ],
 "metadata": {
  "kernelspec": {
   "display_name": "cap_sal",
   "language": "python",
   "name": "cap_sal"
  },
  "language_info": {
   "codemirror_mode": {
    "name": "ipython",
    "version": 3
   },
   "file_extension": ".py",
   "mimetype": "text/x-python",
   "name": "python",
   "nbconvert_exporter": "python",
   "pygments_lexer": "ipython3",
   "version": "3.9.7"
  }
 },
 "nbformat": 4,
 "nbformat_minor": 5
}
